{
 "cells": [
  {
   "cell_type": "code",
   "execution_count": 1,
   "metadata": {},
   "outputs": [],
   "source": [
    "from pyspark import SparkContext\n",
    "from pyspark.sql import SparkSession\n",
    "from pyspark.storagelevel import StorageLevel\n",
    "import pyspark.sql \n",
    "from pyspark.sql import SQLContext\n",
    "from pyspark.sql.functions import * \n",
    "from pyspark.sql.types import StructType, StructField, IntegerType, StringType,FloatType\n",
    "from pyspark.sql.types import Row\n"
   ]
  },
  {
   "cell_type": "code",
   "execution_count": 2,
   "metadata": {},
   "outputs": [],
   "source": [
    "spark = SparkContext(master=\"local\", appName=\"Proyecto\")\n",
    "sqlContext = SQLContext(spark)"
   ]
  },
  {
   "cell_type": "code",
   "execution_count": 3,
   "metadata": {},
   "outputs": [
    {
     "name": "stdout",
     "output_type": "stream",
     "text": [
      "ls: cannot access 'curso-apache-spark-platzi/proyecto/': No such file or directory\r\n"
     ]
    }
   ],
   "source": [
    "!ls curso-apache-spark-platzi/proyecto/"
   ]
  },
  {
   "cell_type": "code",
   "execution_count": 4,
   "metadata": {},
   "outputs": [
    {
     "name": "stdout",
     "output_type": "stream",
     "text": [
      "ls: cannot access '/home/vagrant/curso-apache-spark-platzi/proyecto/': No such file or directory\r\n"
     ]
    }
   ],
   "source": [
    "!ls /home/vagrant/curso-apache-spark-platzi/proyecto/"
   ]
  },
  {
   "cell_type": "code",
   "execution_count": 5,
   "metadata": {
    "scrolled": true
   },
   "outputs": [
    {
     "name": "stdout",
     "output_type": "stream",
     "text": [
      "head: cannot open '/home/vagrant/curso-apache-spark-platzi/proyecto/athlete_events.csv' for reading: No such file or directory\r\n"
     ]
    }
   ],
   "source": [
    "!head -n 5 /home/vagrant/curso-apache-spark-platzi/proyecto/athlete_events.csv"
   ]
  },
  {
   "cell_type": "code",
   "execution_count": 6,
   "metadata": {},
   "outputs": [],
   "source": [
    "def dropFirstRow(index,iterator):\n",
    "     return iter(list(iterator)[1:]) #if index==0 else iterator\n",
    "\n",
    "from pyspark.sql.functions import udf\n",
    "colsInt = udf(lambda z: toInt(z), IntegerType())\n",
    "colsFloat = udf(lambda z: toFloat(z), FloatType())\n",
    "\n",
    "sqlContext.udf.register(\"colsInt\", colsInt)\n",
    "sqlContext.udf.register(\"colsFloat\", colsFloat)\n",
    "\n",
    "def toInt(s):\n",
    "    if isinstance(s, str) == True:\n",
    "        st = [str(ord(i)) for i in s]\n",
    "        return(int(''.join(st)))\n",
    "    else:\n",
    "         return Null\n",
    "    \n",
    "def toFloat(s):\n",
    "    if isinstance(s, str) == True:\n",
    "        st = [str(ord(i)) for i in s]\n",
    "        return(float(''.join(st)))\n",
    "    else:\n",
    "         return Null\n",
    "\n"
   ]
  },
  {
   "cell_type": "code",
   "execution_count": 7,
   "metadata": {},
   "outputs": [],
   "source": [
    "path = \"/home/spark/curso-apache-spark-platzi/proyecto/\"\n",
    "\n",
    "deportistaOlimpicoRDD =  spark.textFile(path+\"deportista.csv\").map(lambda line : line.split(\",\"))\n",
    "deportistaOlimpico2RDD = spark.textFile(path+\"deportista2.csv\").map(lambda line : line.split(\",\"))\n",
    "deportistaOlimpicoRDD = deportistaOlimpicoRDD.union(deportistaOlimpico2RDD)\n",
    "\n",
    "deportistaOlimpicoRDD=deportistaOlimpicoRDD.mapPartitionsWithIndex(dropFirstRow)\n",
    "\n",
    "deportistaOlimpicoRDD = deportistaOlimpicoRDD.map(lambda l : (\n",
    "int(l[0]),\n",
    "l[1],\n",
    "int(l[2]),\n",
    "int(l[3]),\n",
    "int(l[4]),\n",
    "float(l[5]),\n",
    "int(l[6])\n",
    "))\n",
    "\n",
    "schema = StructType([\n",
    "StructField(\"deportista_id\",IntegerType(),False)     ,\n",
    "StructField(\"nombre\",StringType(),False)        ,\n",
    "StructField(\"genero\",IntegerType(),False)        ,\n",
    "StructField(\"edad\",IntegerType(),True)      ,\n",
    "StructField(\"altura\",IntegerType(),True)        ,\n",
    "StructField(\"peso\",FloatType(),True)      ,\n",
    "StructField(\"equipo_id\",IntegerType(),True)     \n",
    "])\n",
    "\n",
    "deportistaOlimpicoDF = sqlContext.createDataFrame(deportistaOlimpicoRDD,schema)"
   ]
  },
  {
   "cell_type": "code",
   "execution_count": 8,
   "metadata": {},
   "outputs": [],
   "source": [
    "paisesRDD = spark.textFile(path+\"paises.csv\",2).map(lambda line : line.split(\",\"))\n",
    "paisesRDD = paisesRDD.mapPartitionsWithIndex(dropFirstRow)\n",
    "\n",
    "paisesRDD = paisesRDD.map(lambda l : (\n",
    "int(l[0]),\n",
    "l[1],\n",
    "l[2]\n",
    "))\n",
    "\n",
    "schema = StructType([\n",
    "StructField(\"id\",IntegerType(),False),\n",
    "StructField(\"equipo\",StringType(),False),\n",
    "StructField(\"sigla\",StringType(),False)\n",
    "])\n",
    "\n",
    "paisesDF = sqlContext.createDataFrame(paisesRDD,schema)"
   ]
  },
  {
   "cell_type": "code",
   "execution_count": 9,
   "metadata": {
    "scrolled": true
   },
   "outputs": [],
   "source": [
    "deportesOlimpicosRDDSchema = StructType(\n",
    "    [StructField(\"deporte_id\",IntegerType(),False),\n",
    "     StructField(\"deporte\",StringType(),False)\n",
    "    ])\n",
    "\n",
    "deportesDF = sqlContext.read.schema(deportesOlimpicosRDDSchema).option(\"header\",\"true\").csv(path+\"deporte.csv\")"
   ]
  },
  {
   "cell_type": "code",
   "execution_count": 10,
   "metadata": {},
   "outputs": [],
   "source": [
    "eventoSchema= StructType([\n",
    "    StructField(\"evento_id\",IntegerType(),False),\n",
    "    StructField(\"nombre\",StringType(),False),\n",
    "    StructField(\"deporte_id\",IntegerType(),False)\n",
    "])\n",
    "\n",
    "deportesOlimpicosDF = sqlContext.read.schema(eventoSchema).option(\"header\",\"true\").csv(path+\"evento.csv\")"
   ]
  },
  {
   "cell_type": "code",
   "execution_count": 11,
   "metadata": {},
   "outputs": [],
   "source": [
    "\n",
    "juegoSchema = StructType([\n",
    "    StructField(\"juego_id\",IntegerType(),False),\n",
    "    StructField(\"anio\",StringType(),False),\n",
    "    StructField(\"temporada\",StringType(),False),\n",
    "    StructField(\"ciudad\",StringType(),False),\n",
    "])\n",
    "juegoDF = sqlContext.read.schema(juegoSchema).option(\"header\",\"true\").csv(path+\"juegos.csv\")\n",
    "\n",
    "resultadoSchema = StructType([\n",
    "    StructField(\"resultado_id\",IntegerType(),False),\n",
    "    StructField(\"medalla\",StringType(),False),\n",
    "    StructField(\"deporitsta_id\",IntegerType(),False),\n",
    "    StructField(\"juego_id\",IntegerType(),False),\n",
    "    StructField(\"evento_id\",IntegerType(),False),\n",
    "])\n",
    "resultadoDF = sqlContext.read.schema(resultadoSchema).option(\"header\",\"true\").csv(path+\"athlete_events.csv\")"
   ]
  },
  {
   "cell_type": "code",
   "execution_count": 12,
   "metadata": {},
   "outputs": [
    {
     "data": {
      "text/plain": [
       "[Row(deporte_id=1, deporte='Basketball'),\n",
       " Row(deporte_id=2, deporte='Judo'),\n",
       " Row(deporte_id=3, deporte='Football'),\n",
       " Row(deporte_id=4, deporte='Tug-Of-War'),\n",
       " Row(deporte_id=5, deporte='Speed Skating')]"
      ]
     },
     "execution_count": 12,
     "metadata": {},
     "output_type": "execute_result"
    }
   ],
   "source": [
    "deportesDF.take(5)"
   ]
  },
  {
   "cell_type": "code",
   "execution_count": 13,
   "metadata": {},
   "outputs": [
    {
     "data": {
      "text/plain": [
       "[Row(evento_id=1, nombre=\"Basketball Men's Basketball\", deporte_id=1),\n",
       " Row(evento_id=2, nombre=\"Judo Men's Extra-Lightweight\", deporte_id=2),\n",
       " Row(evento_id=3, nombre=\"Football Men's Football\", deporte_id=3),\n",
       " Row(evento_id=4, nombre=\"Tug-Of-War Men's Tug-Of-War\", deporte_id=4),\n",
       " Row(evento_id=5, nombre=\"Speed Skating Women's 500 metres\", deporte_id=5)]"
      ]
     },
     "execution_count": 13,
     "metadata": {},
     "output_type": "execute_result"
    }
   ],
   "source": [
    "deportesOlimpicosDF.take(5)"
   ]
  },
  {
   "cell_type": "code",
   "execution_count": 14,
   "metadata": {},
   "outputs": [
    {
     "data": {
      "text/plain": [
       "[Row(id=1, equipo='30. Februar', sigla='AUT'),\n",
       " Row(id=2, equipo='A North American Team', sigla='MEX'),\n",
       " Row(id=3, equipo='Acipactli', sigla='MEX'),\n",
       " Row(id=4, equipo='Acturus', sigla='ARG'),\n",
       " Row(id=5, equipo='Afghanistan', sigla='AFG')]"
      ]
     },
     "execution_count": 14,
     "metadata": {},
     "output_type": "execute_result"
    }
   ],
   "source": [
    "paisesDF.take(5)"
   ]
  },
  {
   "cell_type": "code",
   "execution_count": 15,
   "metadata": {},
   "outputs": [
    {
     "data": {
      "text/plain": [
       "[Row(juego_id=1, anio='1896 Verano', temporada='1896', ciudad='Verano'),\n",
       " Row(juego_id=2, anio='1900 Verano', temporada='1900', ciudad='Verano'),\n",
       " Row(juego_id=3, anio='1904 Verano', temporada='1904', ciudad='Verano'),\n",
       " Row(juego_id=4, anio='1906 Verano', temporada='1906', ciudad='Verano'),\n",
       " Row(juego_id=5, anio='1908 Verano', temporada='1908', ciudad='Verano')]"
      ]
     },
     "execution_count": 15,
     "metadata": {},
     "output_type": "execute_result"
    }
   ],
   "source": [
    "juegoDF.take(5)"
   ]
  },
  {
   "cell_type": "code",
   "execution_count": 16,
   "metadata": {},
   "outputs": [
    {
     "data": {
      "text/plain": [
       "[Row(deportista_id=1, nombre='A Dijiang', genero=1, edad=24, altura=180, peso=80.0, equipo_id=199),\n",
       " Row(deportista_id=2, nombre='A Lamusi', genero=1, edad=23, altura=170, peso=60.0, equipo_id=199),\n",
       " Row(deportista_id=3, nombre='Gunnar Nielsen Aaby', genero=1, edad=24, altura=0, peso=0.0, equipo_id=273),\n",
       " Row(deportista_id=4, nombre='Edgar Lindenau Aabye', genero=1, edad=34, altura=0, peso=0.0, equipo_id=278),\n",
       " Row(deportista_id=5, nombre='Christine Jacoba Aaftink', genero=2, edad=21, altura=185, peso=82.0, equipo_id=705)]"
      ]
     },
     "execution_count": 16,
     "metadata": {},
     "output_type": "execute_result"
    }
   ],
   "source": [
    "deportistaOlimpicoDF.take(5)"
   ]
  },
  {
   "cell_type": "code",
   "execution_count": 17,
   "metadata": {},
   "outputs": [
    {
     "data": {
      "text/plain": [
       "[Row(resultado_id=1, medalla='NA', deporitsta_id=1, juego_id=39, evento_id=1),\n",
       " Row(resultado_id=2, medalla='NA', deporitsta_id=2, juego_id=49, evento_id=2),\n",
       " Row(resultado_id=3, medalla='NA', deporitsta_id=3, juego_id=7, evento_id=3),\n",
       " Row(resultado_id=4, medalla='Gold', deporitsta_id=4, juego_id=2, evento_id=4),\n",
       " Row(resultado_id=5, medalla='NA', deporitsta_id=5, juego_id=36, evento_id=5)]"
      ]
     },
     "execution_count": 17,
     "metadata": {},
     "output_type": "execute_result"
    }
   ],
   "source": [
    "resultadoDF.take(5)"
   ]
  },
  {
   "cell_type": "markdown",
   "metadata": {},
   "source": [
    "# Operaciones sobre DF"
   ]
  },
  {
   "cell_type": "code",
   "execution_count": 18,
   "metadata": {},
   "outputs": [
    {
     "name": "stdout",
     "output_type": "stream",
     "text": [
      "root\n",
      " |-- deportista_id: integer (nullable = false)\n",
      " |-- nombre: string (nullable = false)\n",
      " |-- genero: integer (nullable = false)\n",
      " |-- edad: integer (nullable = true)\n",
      " |-- altura: integer (nullable = true)\n",
      " |-- peso: float (nullable = true)\n",
      " |-- equipo_id: integer (nullable = true)\n",
      "\n"
     ]
    }
   ],
   "source": [
    "deportistaOlimpicoDF.printSchema()"
   ]
  },
  {
   "cell_type": "code",
   "execution_count": 19,
   "metadata": {},
   "outputs": [
    {
     "data": {
      "text/plain": [
       "[Row(nombre='A Dijiang'),\n",
       " Row(nombre='A Lamusi'),\n",
       " Row(nombre='Gunnar Nielsen Aaby'),\n",
       " Row(nombre='Edgar Lindenau Aabye'),\n",
       " Row(nombre='Christine Jacoba Aaftink'),\n",
       " Row(nombre='Per Knut Aaland')]"
      ]
     },
     "execution_count": 19,
     "metadata": {},
     "output_type": "execute_result"
    }
   ],
   "source": [
    "colNombre = deportistaOlimpicoDF[\"nombre\"]\n",
    "colAltura = deportistaOlimpicoDF.altura\n",
    "deportistaOlimpicoDF.select(colNombre).take(6)"
   ]
  },
  {
   "cell_type": "code",
   "execution_count": 20,
   "metadata": {},
   "outputs": [],
   "source": [
    "deportistaOlimpicoDF = deportistaOlimpicoDF.withColumnRenamed(\"genero\",\"sexo\").drop(\"altura\")"
   ]
  },
  {
   "cell_type": "code",
   "execution_count": 21,
   "metadata": {},
   "outputs": [
    {
     "name": "stdout",
     "output_type": "stream",
     "text": [
      "root\n",
      " |-- deportista_id: integer (nullable = false)\n",
      " |-- nombre: string (nullable = false)\n",
      " |-- sexo: integer (nullable = false)\n",
      " |-- edad: integer (nullable = true)\n",
      " |-- peso: float (nullable = true)\n",
      " |-- equipo_id: integer (nullable = true)\n",
      "\n"
     ]
    }
   ],
   "source": [
    "deportistaOlimpicoDF.printSchema()"
   ]
  },
  {
   "cell_type": "code",
   "execution_count": 22,
   "metadata": {},
   "outputs": [],
   "source": [
    "deportistaOlimpicoDF = deportistaOlimpicoDF.select(\"deportista_id\",\"nombre\",\"sexo\",col(\"edad\") \\\n",
    "                                                   .alias(\"edadAlJugar\"),\"equipo_id\")"
   ]
  },
  {
   "cell_type": "code",
   "execution_count": 23,
   "metadata": {},
   "outputs": [
    {
     "data": {
      "text/plain": [
       "[Row(deportista_id=1, nombre='A Dijiang', sexo=1, edadAlJugar=24, equipo_id=199),\n",
       " Row(deportista_id=2, nombre='A Lamusi', sexo=1, edadAlJugar=23, equipo_id=199),\n",
       " Row(deportista_id=3, nombre='Gunnar Nielsen Aaby', sexo=1, edadAlJugar=24, equipo_id=273),\n",
       " Row(deportista_id=4, nombre='Edgar Lindenau Aabye', sexo=1, edadAlJugar=34, equipo_id=278),\n",
       " Row(deportista_id=5, nombre='Christine Jacoba Aaftink', sexo=2, edadAlJugar=21, equipo_id=705),\n",
       " Row(deportista_id=6, nombre='Per Knut Aaland', sexo=1, edadAlJugar=31, equipo_id=1096),\n",
       " Row(deportista_id=7, nombre='John Aalberg', sexo=1, edadAlJugar=31, equipo_id=1096),\n",
       " Row(deportista_id=8, nombre='Cornelia Cor Aalten Strannood ', sexo=2, edadAlJugar=18, equipo_id=705),\n",
       " Row(deportista_id=9, nombre='Antti Sami Aalto', sexo=1, edadAlJugar=26, equipo_id=350),\n",
       " Row(deportista_id=10, nombre='Einar Ferdinand Einari Aalto', sexo=1, edadAlJugar=26, equipo_id=350)]"
      ]
     },
     "execution_count": 23,
     "metadata": {},
     "output_type": "execute_result"
    }
   ],
   "source": [
    "deportistaOlimpicoDF.take(10)"
   ]
  },
  {
   "cell_type": "code",
   "execution_count": 24,
   "metadata": {},
   "outputs": [],
   "source": [
    "jugadoresM=deportistaOlimpicoDF.filter((deportistaOlimpicoDF.sexo == 1)&(deportistaOlimpicoDF.edadAlJugar!= 0))"
   ]
  },
  {
   "cell_type": "code",
   "execution_count": 25,
   "metadata": {},
   "outputs": [
    {
     "name": "stdout",
     "output_type": "stream",
     "text": [
      "+-------------+--------------------+----+-----------+---------+\n",
      "|deportista_id|              nombre|sexo|edadAlJugar|equipo_id|\n",
      "+-------------+--------------------+----+-----------+---------+\n",
      "|        71691|  Dimitrios Loundras|   1|         10|      333|\n",
      "|        37333|Carlos Bienvenido...|   1|         11|      982|\n",
      "|        49142|        Jan Hoffmann|   1|         12|      302|\n",
      "|        40296|    Alain C. Giletti|   1|         12|      362|\n",
      "|        24191| Philippe Cuelenaere|   1|         12|       96|\n",
      "|       125092|tienne Nol Henri ...|   1|         12|      362|\n",
      "|        42835|   Werner Grieshofer|   1|         12|       71|\n",
      "|        48939|             Ho Gang|   1|         12|      738|\n",
      "|        24054|  Joaquim Pedro Cruz|   1|         13|      688|\n",
      "|        18068|Jrgen Wright Capp...|   1|         13|      742|\n",
      "|        32832|        Gyrgy Erdlyi|   1|         13|      477|\n",
      "|        55514|  Ian David Johnston|   1|         13|       66|\n",
      "|        13520|   Csar Borja Pineda|   1|         13|      656|\n",
      "|        35720| Ralph Drew Flanagan|   1|         13|     1096|\n",
      "|        43610|Rubn Ernesto Guer...|   1|         13|      310|\n",
      "|        55906|        Daniel Jorge|   1|         13|     1121|\n",
      "|        64734|       Stefan Kuhnke|   1|         13|     1150|\n",
      "|        14142|       Hans Bourquin|   1|         13|     1019|\n",
      "|        28392|Dwayne Benjamin D...|   1|         13|      917|\n",
      "|        50058|Rufus William Lan...|   1|         13|      937|\n",
      "+-------------+--------------------+----+-----------+---------+\n",
      "only showing top 20 rows\n",
      "\n"
     ]
    }
   ],
   "source": [
    "jugadoresM = jugadoresM.sort(\"edadAlJugar\")\n",
    "jugadoresM.show()"
   ]
  },
  {
   "cell_type": "code",
   "execution_count": 27,
   "metadata": {},
   "outputs": [],
   "source": [
    "jugadoresF=deportistaOlimpicoDF.filter((deportistaOlimpicoDF.sexo == 2)&(deportistaOlimpicoDF.edadAlJugar!=0))"
   ]
  },
  {
   "cell_type": "code",
   "execution_count": 28,
   "metadata": {},
   "outputs": [
    {
     "name": "stdout",
     "output_type": "stream",
     "text": [
      "+-------------+--------------------+----+-----------+---------+\n",
      "|deportista_id|              nombre|sexo|edadAlJugar|equipo_id|\n",
      "+-------------+--------------------+----+-----------+---------+\n",
      "|       126307|        Liana Vicens|   2|         11|      825|\n",
      "|        47618|Sonja Henie Toppi...|   2|         11|      742|\n",
      "|        22411|Magdalena Cecilia...|   2|         11|      413|\n",
      "|        51268|      Beatrice Hutiu|   2|         11|      861|\n",
      "|       118925|Megan Olwen Deven...|   2|         11|      413|\n",
      "|        40129|    Luigina Giavotti|   2|         11|      507|\n",
      "|        70616|          Liu Luyang|   2|         11|      199|\n",
      "|        52070|        Etsuko Inada|   2|         11|      514|\n",
      "|        76675|   Marcelle Matthews|   2|         11|      967|\n",
      "|        43528|Antoinette Joyce ...|   2|         12|      172|\n",
      "|        63816|Carolyn Patricia ...|   2|         12|      415|\n",
      "|        25877|Olga Lucia de Ang...|   2|         12|      225|\n",
      "|         5291|Marcia Arriaga La...|   2|         12|      656|\n",
      "|       118832|  Chin Say Molly Tay|   2|         12|      619|\n",
      "|        48728|      Margery Hinton|   2|         12|      413|\n",
      "|        59727|Marika Kilius Zah...|   2|         12|      399|\n",
      "|        31203|Patricia Anne Pat...|   2|         12|      967|\n",
      "|        72854|      Licia Macchini|   2|         12|      507|\n",
      "|        47506|        Hem Reaksmey|   2|         12|      168|\n",
      "|        54620|Belita Gladys Lyn...|   2|         12|      413|\n",
      "+-------------+--------------------+----+-----------+---------+\n",
      "only showing top 20 rows\n",
      "\n"
     ]
    }
   ],
   "source": [
    "jugadoresF = jugadoresF.sort(\"edadAlJugar\")\n",
    "jugadoresF.show()"
   ]
  },
  {
   "cell_type": "code",
   "execution_count": 29,
   "metadata": {},
   "outputs": [
    {
     "name": "stdout",
     "output_type": "stream",
     "text": [
      "root\n",
      " |-- deportista_id: integer (nullable = false)\n",
      " |-- nombre: string (nullable = false)\n",
      " |-- sexo: integer (nullable = false)\n",
      " |-- edadAlJugar: integer (nullable = true)\n",
      " |-- equipo_id: integer (nullable = true)\n",
      "\n"
     ]
    }
   ],
   "source": [
    "jugadoresF.printSchema()"
   ]
  },
  {
   "cell_type": "code",
   "execution_count": 30,
   "metadata": {},
   "outputs": [
    {
     "name": "stdout",
     "output_type": "stream",
     "text": [
      "root\n",
      " |-- deportista_id: integer (nullable = false)\n",
      " |-- nombre: string (nullable = false)\n",
      " |-- sexo: integer (nullable = false)\n",
      " |-- edadAlJugar: integer (nullable = true)\n",
      " |-- equipo_id: integer (nullable = true)\n",
      "\n"
     ]
    }
   ],
   "source": [
    "jugadoresM.printSchema()"
   ]
  },
  {
   "cell_type": "code",
   "execution_count": 31,
   "metadata": {},
   "outputs": [
    {
     "name": "stdout",
     "output_type": "stream",
     "text": [
      "root\n",
      " |-- resultado_id: integer (nullable = true)\n",
      " |-- medalla: string (nullable = true)\n",
      " |-- deporitsta_id: integer (nullable = true)\n",
      " |-- juego_id: integer (nullable = true)\n",
      " |-- evento_id: integer (nullable = true)\n",
      "\n"
     ]
    }
   ],
   "source": [
    "resultadoDF.printSchema()"
   ]
  },
  {
   "cell_type": "code",
   "execution_count": 32,
   "metadata": {},
   "outputs": [
    {
     "name": "stdout",
     "output_type": "stream",
     "text": [
      "+--------------------+----------------+-------+-------------+--------------------+\n",
      "|              nombre|Edad al competir|medalla| Año de juego|    Nombre disiplina|\n",
      "+--------------------+----------------+-------+-------------+--------------------+\n",
      "|Magdalena Cecilia...|              11| Silver|1936 Invierno|Figure Skating Wo...|\n",
      "|Magdalena Cecilia...|              11|     NA|1932 Invierno|Figure Skating Wo...|\n",
      "|    Luigina Giavotti|              11| Silver|  1928 Verano|Gymnastics Women'...|\n",
      "|Sonja Henie Toppi...|              11|   Gold|1936 Invierno|Figure Skating Wo...|\n",
      "|Sonja Henie Toppi...|              11|   Gold|1932 Invierno|Figure Skating Wo...|\n",
      "|Sonja Henie Toppi...|              11|   Gold|1928 Invierno|Figure Skating Wo...|\n",
      "|Sonja Henie Toppi...|              11|     NA|1924 Invierno|Figure Skating Wo...|\n",
      "|      Beatrice Hutiu|              11|     NA|1968 Invierno|Figure Skating Wo...|\n",
      "|        Etsuko Inada|              11|     NA|1936 Invierno|Figure Skating Wo...|\n",
      "|          Liu Luyang|              11|     NA|1988 Invierno|Figure Skating Mi...|\n",
      "|   Marcelle Matthews|              11|     NA|1960 Invierno|Figure Skating Mi...|\n",
      "|Megan Olwen Deven...|              11|     NA|1932 Invierno|Figure Skating Wo...|\n",
      "|        Liana Vicens|              11|     NA|  1968 Verano|Swimming Women's ...|\n",
      "|        Liana Vicens|              11|     NA|  1968 Verano|Swimming Women's ...|\n",
      "|        Liana Vicens|              11|     NA|  1968 Verano|Swimming Women's ...|\n",
      "|        Liana Vicens|              11|     NA|  1968 Verano|Swimming Women's ...|\n",
      "|Marcia Arriaga La...|              12|     NA|  1972 Verano|Swimming Women's ...|\n",
      "|Marcia Arriaga La...|              12|     NA|  1972 Verano|Swimming Women's ...|\n",
      "|Marcia Arriaga La...|              12|     NA|  1972 Verano|Swimming Women's ...|\n",
      "|Marcia Arriaga La...|              12|     NA|  1972 Verano|Swimming Women's ...|\n",
      "+--------------------+----------------+-------+-------------+--------------------+\n",
      "only showing top 20 rows\n",
      "\n"
     ]
    }
   ],
   "source": [
    "jugadoresF.join(resultadoDF, jugadoresF.deportista_id ==resultadoDF.deporitsta_id,\"left\") \\\n",
    "        .join(juegoDF, juegoDF.juego_id == resultadoDF.juego_id,\"left\") \\\n",
    "        .join(deportesOlimpicosDF, deportesOlimpicosDF.evento_id == resultadoDF.evento_id,\"left\") \\\n",
    "        .select(jugadoresF.nombre, col(\"edadAlJugar\").alias(\"Edad al competir\"),\n",
    "                \"medalla\",col(\"anio\").alias(\"Año de juego\"),\n",
    "                deportesOlimpicosDF.nombre.alias(\"Nombre disiplina\")).show()"
   ]
  },
  {
   "cell_type": "code",
   "execution_count": 33,
   "metadata": {},
   "outputs": [
    {
     "name": "stdout",
     "output_type": "stream",
     "text": [
      "+--------------------+----------------+-------+-------------+--------------------+\n",
      "|              nombre|Edad al competir|medalla| Año de juego|    Nombre disiplina|\n",
      "+--------------------+----------------+-------+-------------+--------------------+\n",
      "|  Dimitrios Loundras|              10| Bronze|  1896 Verano|Gymnastics Men's ...|\n",
      "|Carlos Bienvenido...|              11|     NA|  1992 Verano|Rowing Men's Coxe...|\n",
      "| Philippe Cuelenaere|              12|     NA|  1984 Verano|Rowing Men's Coxe...|\n",
      "|    Alain C. Giletti|              12|     NA|1960 Invierno|Figure Skating Me...|\n",
      "|    Alain C. Giletti|              12|     NA|1956 Invierno|Figure Skating Me...|\n",
      "|    Alain C. Giletti|              12|     NA|1952 Invierno|Figure Skating Me...|\n",
      "|   Werner Grieshofer|              12|     NA|  1972 Verano|Rowing Men's Coxe...|\n",
      "|             Ho Gang|              12|     NA|1988 Invierno|Figure Skating Me...|\n",
      "|        Jan Hoffmann|              12| Silver|1980 Invierno|Figure Skating Me...|\n",
      "|        Jan Hoffmann|              12|     NA|1976 Invierno|Figure Skating Me...|\n",
      "|        Jan Hoffmann|              12|     NA|1972 Invierno|Figure Skating Me...|\n",
      "|        Jan Hoffmann|              12|     NA|1968 Invierno|Figure Skating Me...|\n",
      "|tienne Nol Henri ...|              12| Bronze|  1936 Verano|Rowing Men's Coxe...|\n",
      "|tienne Nol Henri ...|              12| Bronze|  1936 Verano|Rowing Men's Coxe...|\n",
      "|   Csar Borja Pineda|              13|     NA|  1952 Verano|Swimming Men's 4 ...|\n",
      "|   Csar Borja Pineda|              13|     NA|  1952 Verano|Swimming Men's 1,...|\n",
      "|   Csar Borja Pineda|              13|     NA|  1948 Verano|Swimming Men's 1,...|\n",
      "|       Hans Bourquin|              13|   Gold|  1928 Verano|Rowing Men's Coxe...|\n",
      "|Jrgen Wright Capp...|              13|     NA|  1972 Verano|Rowing Men's Coxe...|\n",
      "|  Joaquim Pedro Cruz|              13|     NA|  1984 Verano|Swimming Men's 20...|\n",
      "+--------------------+----------------+-------+-------------+--------------------+\n",
      "only showing top 20 rows\n",
      "\n"
     ]
    }
   ],
   "source": [
    "jugadoresM.join(resultadoDF, jugadoresM.deportista_id ==resultadoDF.deporitsta_id,\"left\") \\\n",
    "        .join(juegoDF, juegoDF.juego_id == resultadoDF.juego_id,\"left\") \\\n",
    "        .join(deportesOlimpicosDF, deportesOlimpicosDF.evento_id == resultadoDF.evento_id,\"left\") \\\n",
    "        .select(jugadoresM.nombre, col(\"edadAlJugar\").alias(\"Edad al competir\"),\n",
    "                \"medalla\",col(\"anio\").alias(\"Año de juego\"),\n",
    "                deportesOlimpicosDF.nombre.alias(\"Nombre disiplina\")).show()"
   ]
  },
  {
   "cell_type": "code",
   "execution_count": 34,
   "metadata": {},
   "outputs": [
    {
     "data": {
      "text/plain": [
       "129202"
      ]
     },
     "execution_count": 34,
     "metadata": {},
     "output_type": "execute_result"
    }
   ],
   "source": [
    "jugadoresTotal = jugadoresF.union(jugadoresM).distinct()\n",
    "jugadoresTotal.count()"
   ]
  },
  {
   "cell_type": "code",
   "execution_count": 35,
   "metadata": {},
   "outputs": [
    {
     "data": {
      "text/plain": [
       "129202"
      ]
     },
     "execution_count": 35,
     "metadata": {},
     "output_type": "execute_result"
    }
   ],
   "source": [
    "jugadoresF.union(jugadoresM).count()"
   ]
  },
  {
   "cell_type": "markdown",
   "metadata": {},
   "source": [
    "Hacer dos dataframes nuevos\n",
    "    1) poseerà el equipo de nacionalidad, año y ciudad del juego, medalla y disiplina y subdisiplina y nombre del atleta\n",
    " \n",
    "\n"
   ]
  },
  {
   "cell_type": "code",
   "execution_count": 38,
   "metadata": {},
   "outputs": [],
   "source": [
    "medallistasXAnio = deportistaOlimpicoDF.join(resultadoDF, deportistaOlimpicoDF.deportista_id ==resultadoDF.deporitsta_id,\"left\") \\\n",
    "        .join(juegoDF, juegoDF.juego_id == resultadoDF.juego_id,\"left\") \\\n",
    "        .join(paisesDF,deportistaOlimpicoDF.equipo_id == paisesDF.id,\"left\") \\\n",
    "        .join(deportesOlimpicosDF, deportesOlimpicosDF.evento_id == resultadoDF.evento_id,\"left\") \\\n",
    "        .join(deportesDF,deportesOlimpicosDF.deporte_id == deportesDF.deporte_id,\"left\") \\\n",
    "        .select(\"sigla\",\n",
    "                \"anio\",\n",
    "                \"medalla\",\n",
    "                deportesOlimpicosDF.nombre.alias(\"Nombre subdisiplina\"),\n",
    "                deportesDF.deporte.alias(\"Nombre disiplina\"),\n",
    "                jugadoresM.nombre,   \n",
    "                )\n"
   ]
  },
  {
   "cell_type": "markdown",
   "metadata": {},
   "source": [
    "    2) poseerà solo medallas ganadoras (Oro,Plata y Bronze), pais, equipo"
   ]
  },
  {
   "cell_type": "markdown",
   "metadata": {},
   "source": [
    "paisesDF.printSchema()"
   ]
  },
  {
   "cell_type": "code",
   "execution_count": 39,
   "metadata": {},
   "outputs": [],
   "source": [
    "medallasXPais = resultadoDF.filter(resultadoDF.medalla != \"NA\") \\\n",
    "        .join(deportistaOlimpicoDF, deportistaOlimpicoDF.deportista_id == resultadoDF.deporitsta_id,\"left\") \\\n",
    "        .join(paisesDF, paisesDF.id == deportistaOlimpicoDF.equipo_id,\"left\") \\\n",
    "        .select(\"medalla\",\"equipo\",\"sigla\").sort(col(\"sigla\").desc())"
   ]
  },
  {
   "cell_type": "markdown",
   "metadata": {},
   "source": []
  },
  {
   "cell_type": "code",
   "execution_count": 40,
   "metadata": {},
   "outputs": [
    {
     "name": "stdout",
     "output_type": "stream",
     "text": [
      "+-----+-------------+-------+--------------------+----------------+--------------------+\n",
      "|sigla|         anio|medalla| Nombre subdisiplina|Nombre disiplina|              nombre|\n",
      "+-----+-------------+-------+--------------------+----------------+--------------------+\n",
      "|  BRU|  2016 Verano|     NA|Athletics Women's...|       Athletics|Maizurah Abdul Rahim|\n",
      "|  BRU|  2000 Verano|     NA|Shooting Men's Skeet|        Shooting|Jefri Kiko Bolkia...|\n",
      "|  BRU|  1996 Verano|     NA|Shooting Men's Skeet|        Shooting|Jefri Kiko Bolkia...|\n",
      "|  BRU|  2004 Verano|     NA|Athletics Men's 1...|       Athletics|     Jimmy Anak Ahar|\n",
      "|  BRU|  2000 Verano|     NA|Athletics Men's 1...|       Athletics|         Haseri Asli|\n",
      "|  BRU|  2016 Verano|     NA|Athletics Men's 1...|       Athletics|Mohamed Fakhri Is...|\n",
      "|  BRU|  2012 Verano|     NA|Swimming Men's 20...|        Swimming|Anderson Chee Wei...|\n",
      "|  BRU|  2012 Verano|     NA|Athletics Women's...|       Athletics|      Maziah Mahusin|\n",
      "|  BRU|  2012 Verano|     NA|Athletics Men's 4...|       Athletics|Ak Hafiy Tajuddin...|\n",
      "|  BRU|  2016 Verano|     NA|Badminton Men's S...|       Badminton| Woon Chai Jaspar Yu|\n",
      "|  DEN|  1928 Verano| Silver|Sailing Mixed 6 m...|         Sailing|    Niels Otto Mller|\n",
      "|  DEN|  1928 Verano| Silver|Sailing Mixed 6 m...|         Sailing|      Peter Schltter|\n",
      "|  HKG|  1988 Verano|     NA|Table Tennis Men'...|    Table Tennis|       Chan Chi Ming|\n",
      "|  IRI|  1948 Verano|     NA|Boxing Men's Heav...|          Boxing|Mohamed Jamshid A...|\n",
      "|  IRI|2014 Invierno|     NA|Alpine Skiing Wom...|   Alpine Skiing|      Forough Abbasi|\n",
      "|  IRI|  2012 Verano|     NA|Rowing Women's Si...|          Rowing| Soulmaz Abbasi Azad|\n",
      "|  IRI|  2016 Verano| Bronze|Wrestling Men's M...|       Wrestling|Saeid Morad Abdevali|\n",
      "|  IRI|  2012 Verano|     NA|Wrestling Men's W...|       Wrestling|Saeid Morad Abdevali|\n",
      "|  IRI|  1976 Verano|     NA|Football Men's Fo...|        Football| Nasrollah Abdollahi|\n",
      "|  IRI|  1976 Verano|     NA|Water Polo Men's ...|      Water Polo|Firouz Abdul Moha...|\n",
      "+-----+-------------+-------+--------------------+----------------+--------------------+\n",
      "only showing top 20 rows\n",
      "\n"
     ]
    }
   ],
   "source": [
    "medallistasXAnio.show()"
   ]
  },
  {
   "cell_type": "code",
   "execution_count": 44,
   "metadata": {},
   "outputs": [
    {
     "name": "stdout",
     "output_type": "stream",
     "text": [
      "+--------------------+-------------+--------------------+-----+\n",
      "|              nombre|         anio|    Nombre disiplina|count|\n",
      "+--------------------+-------------+--------------------+-----+\n",
      "|   Tofigh Jahanbakht|  1952 Verano|           Wrestling|    1|\n",
      "|Jalal Ali Joe Kas...|  1968 Verano|           Athletics|    1|\n",
      "|   Arash Miresmaeili|  2008 Verano|                Judo|    1|\n",
      "|       Ahmed Yaghoti|  1976 Verano|          Water Polo|    1|\n",
      "|Dmitry Yevgenyevi...|  1996 Verano|             Sailing|    1|\n",
      "|        Yury Safonov|  1992 Verano|              Hockey|    1|\n",
      "|Andrey Viktorovic...|1998 Invierno|          Ice Hockey|    1|\n",
      "|      Chow Park Wing|  1960 Verano|             Sailing|    1|\n",
      "|       Serkan Atasay|  2004 Verano|            Swimming|    1|\n",
      "|Nataliya Volodymy...|  2004 Verano|           Athletics|    1|\n",
      "|Oleksandr Mykhail...|  2008 Verano|              Boxing|    1|\n",
      "|     Vitaliy Martsiv|2006 Invierno|Cross Country Skiing|    3|\n",
      "|Liudmyla Ihorivna...|  1996 Verano|          Basketball|    1|\n",
      "|         Olena Rurak|  2000 Verano|           Athletics|    1|\n",
      "|Tetiana Yurivna V...|2002 Invierno|            Biathlon|    3|\n",
      "|    Kimihiro Shinada|1976 Invierno|           Bobsleigh|    2|\n",
      "|    Karl Helmut Bach|  1952 Verano|             Fencing|    4|\n",
      "|Manuela Marxer Li...|  1988 Verano|           Athletics|    1|\n",
      "|          Achim Vogt|2002 Invierno|       Alpine Skiing|    1|\n",
      "|    Sambiao Basanung|  1948 Verano|            Swimming|    2|\n",
      "+--------------------+-------------+--------------------+-----+\n",
      "only showing top 20 rows\n",
      "\n"
     ]
    }
   ],
   "source": [
    "medallistasXAnio.groupBy(\"nombre\",\"anio\",\"Nombre disiplina\").count().show()"
   ]
  },
  {
   "cell_type": "code",
   "execution_count": 46,
   "metadata": {},
   "outputs": [
    {
     "name": "stdout",
     "output_type": "stream",
     "text": [
      "+--------------------+\n",
      "| Nombre subdisiplina|\n",
      "+--------------------+\n",
      "|Judo Men's Middle...|\n",
      "|Swimming Men's 10...|\n",
      "|Equestrianism Men...|\n",
      "|Motorboating Mixe...|\n",
      "|Shooting Men's Un...|\n",
      "|Athletics Men's 1...|\n",
      "|Gymnastics Women'...|\n",
      "|Figure Skating Mi...|\n",
      "|Cycling Men's Roa...|\n",
      "|Cross Country Ski...|\n",
      "|Tennis Mixed Doub...|\n",
      "|Art Competitions ...|\n",
      "|Gymnastics Men's ...|\n",
      "|Weightlifting Wom...|\n",
      "|Athletics Men's 3...|\n",
      "|Cross Country Ski...|\n",
      "|Sailing Mixed One...|\n",
      "|Sailing Mixed 6 m...|\n",
      "|Athletics Women's...|\n",
      "|Swimming Women's ...|\n",
      "+--------------------+\n",
      "only showing top 20 rows\n",
      "\n"
     ]
    }
   ],
   "source": [
    "medallistasXAnio.select(\"Nombre subdisiplina\").distinct().show(20)"
   ]
  },
  {
   "cell_type": "code",
   "execution_count": 53,
   "metadata": {},
   "outputs": [
    {
     "name": "stdout",
     "output_type": "stream",
     "text": [
      "+-----+-----------+-----+\n",
      "|Sigla|       anio|count|\n",
      "+-----+-----------+-----+\n",
      "|  PHI|1964 Verano|    2|\n",
      "|  KOR|1964 Verano|    1|\n",
      "|  FRA|1964 Verano|    2|\n",
      "|  CRC|1964 Verano|    2|\n",
      "|  VEN|1964 Verano|    1|\n",
      "|  THA|1964 Verano|    1|\n",
      "|  USA|1964 Verano|    1|\n",
      "|  JPN|1964 Verano|    1|\n",
      "|  ARG|1964 Verano|    1|\n",
      "|  POR|1964 Verano|    1|\n",
      "|  TPE|1964 Verano|    1|\n",
      "|  GBR|1964 Verano|    1|\n",
      "|  AUT|1964 Verano|    1|\n",
      "|  VNM|1964 Verano|    2|\n",
      "|  AUS|1964 Verano|    1|\n",
      "|  GER|1964 Verano|    1|\n",
      "|  NED|1964 Verano|    2|\n",
      "|  BRA|1964 Verano|    1|\n",
      "|  MEX|1964 Verano|    1|\n",
      "| null|1964 Verano|    1|\n",
      "+-----+-----------+-----+\n",
      "only showing top 20 rows\n",
      "\n"
     ]
    }
   ],
   "source": [
    "medallistasXAnio.where(col(\"Nombre subdisiplina\").like(\"Judo Men's Middle%\")) \\\n",
    "    .sort(\"anio\") \\\n",
    "    .groupBy(\"Sigla\",\"anio\").count() \\\n",
    "    .show()"
   ]
  },
  {
   "cell_type": "code",
   "execution_count": 80,
   "metadata": {},
   "outputs": [],
   "source": [
    "temp1 = medallistasXAnio.filter(medallistasXAnio.medalla != \"NA\") \\\n",
    "    .sort(\"anio\") \\\n",
    "    .groupBy(\"Sigla\",\"anio\",\"Nombre subdisiplina\") \\\n",
    "    .count()\n"
   ]
  },
  {
   "cell_type": "code",
   "execution_count": 81,
   "metadata": {},
   "outputs": [
    {
     "name": "stdout",
     "output_type": "stream",
     "text": [
      "root\n",
      " |-- Sigla: string (nullable = true)\n",
      " |-- anio: string (nullable = true)\n",
      " |-- Nombre subdisiplina: string (nullable = true)\n",
      " |-- count: long (nullable = false)\n",
      "\n"
     ]
    }
   ],
   "source": [
    "temp1.printSchema()"
   ]
  },
  {
   "cell_type": "code",
   "execution_count": 82,
   "metadata": {},
   "outputs": [
    {
     "name": "stdout",
     "output_type": "stream",
     "text": [
      "+-----+-----------+--------------------+-----+\n",
      "|Sigla|       anio| Nombre subdisiplina|count|\n",
      "+-----+-----------+--------------------+-----+\n",
      "|  FRA|1896 Verano|Fencing Men's Foi...|    2|\n",
      "|  FRA|1896 Verano|Cycling Men's 100...|    1|\n",
      "|  FRA|1896 Verano|Cycling Men's 10,...|    2|\n",
      "|  FRA|1896 Verano|Cycling Men's Sprint|    2|\n",
      "|  FRA|1896 Verano|Athletics Men's 1...|    1|\n",
      "|  FRA|1896 Verano|Cycling Men's 333...|    1|\n",
      "|  FRA|1896 Verano|Fencing Men's Foi...|    1|\n",
      "|  FRA|1896 Verano|Athletics Men's T...|    1|\n",
      "|  SUI|1896 Verano|Gymnastics Men's ...|    1|\n",
      "|  SUI|1896 Verano|Gymnastics Men's ...|    1|\n",
      "|  SUI|1896 Verano|Gymnastics Men's ...|    1|\n",
      "|  GRE|1896 Verano|Gymnastics Men's ...|    2|\n",
      "|  GRE|1896 Verano|Swimming Men's 1,...|    1|\n",
      "|  GRE|1896 Verano|Gymnastics Men's ...|    2|\n",
      "|  GRE|1896 Verano|Tennis Men's Doubles|    2|\n",
      "|  GRE|1896 Verano|Tennis Men's Singles|    2|\n",
      "|  GRE|1896 Verano|Athletics Men's P...|    2|\n",
      "|  GRE|1896 Verano|Shooting Men's Mi...|    1|\n",
      "|  GRE|1896 Verano|Swimming Men's 10...|    3|\n",
      "|  GRE|1896 Verano|Shooting Men's Fr...|    2|\n",
      "+-----+-----------+--------------------+-----+\n",
      "only showing top 20 rows\n",
      "\n"
     ]
    }
   ],
   "source": [
    "temp1.show()"
   ]
  },
  {
   "cell_type": "code",
   "execution_count": 83,
   "metadata": {},
   "outputs": [
    {
     "name": "stdout",
     "output_type": "stream",
     "text": [
      "+-----+-----------+-----------------+------------------+\n",
      "|Sigla|       anio|Total de medallas| Medallas promedio|\n",
      "+-----+-----------+-----------------+------------------+\n",
      "|  FRA|1896 Verano|               11|             1.375|\n",
      "|  SUI|1896 Verano|                3|               1.0|\n",
      "|  GRE|1896 Verano|               48|1.6551724137931034|\n",
      "|  USA|1896 Verano|               20|1.6666666666666667|\n",
      "|  DEN|1896 Verano|                6|               1.0|\n",
      "|  HUN|1896 Verano|                6|               1.0|\n",
      "|  GBR|1896 Verano|                9|             1.125|\n",
      "|  AUT|1896 Verano|                5|               1.0|\n",
      "|  AUS|1896 Verano|                3|               1.0|\n",
      "|  GER|1896 Verano|               32|2.6666666666666665|\n",
      "|  FRA|1900 Verano|              250| 4.310344827586207|\n",
      "|  GER|1900 Verano|               45| 6.428571428571429|\n",
      "|  SUI|1900 Verano|               21|               3.5|\n",
      "|  LUX|1900 Verano|                1|               1.0|\n",
      "|  NED|1900 Verano|               26| 4.333333333333333|\n",
      "|  GBR|1900 Verano|               88|              3.52|\n",
      "|  BOH|1900 Verano|                3|               1.0|\n",
      "|  USA|1900 Verano|               66| 2.357142857142857|\n",
      "|  BEL|1900 Verano|               45|            2.8125|\n",
      "|  ITA|1900 Verano|                5|              1.25|\n",
      "+-----+-----------+-----------------+------------------+\n",
      "only showing top 20 rows\n",
      "\n"
     ]
    }
   ],
   "source": [
    "temp1.groupBy(\"Sigla\",\"anio\"). \\\n",
    "    agg(sum(\"count\").alias(\"Total de medallas\"),\\\n",
    "        avg(\"count\").alias(\"Medallas promedio\")\n",
    "       )\\\n",
    "    .show()"
   ]
  },
  {
   "cell_type": "markdown",
   "metadata": {},
   "source": [
    "2\n"
   ]
  },
  {
   "cell_type": "code",
   "execution_count": 84,
   "metadata": {},
   "outputs": [
    {
     "name": "stdout",
     "output_type": "stream",
     "text": [
      "+-------+--------+-----+\n",
      "|medalla|  equipo|sigla|\n",
      "+-------+--------+-----+\n",
      "|   Gold|Zimbabwe|  ZIM|\n",
      "|   Gold|Zimbabwe|  ZIM|\n",
      "|   Gold|Zimbabwe|  ZIM|\n",
      "| Silver|Zimbabwe|  ZIM|\n",
      "| Silver|Zimbabwe|  ZIM|\n",
      "|   Gold|Zimbabwe|  ZIM|\n",
      "|   Gold|Zimbabwe|  ZIM|\n",
      "|   Gold|Zimbabwe|  ZIM|\n",
      "|   Gold|Zimbabwe|  ZIM|\n",
      "|   Gold|Zimbabwe|  ZIM|\n",
      "|   Gold|Zimbabwe|  ZIM|\n",
      "|   Gold|Zimbabwe|  ZIM|\n",
      "|   Gold|Zimbabwe|  ZIM|\n",
      "|   Gold|Zimbabwe|  ZIM|\n",
      "|   Gold|Zimbabwe|  ZIM|\n",
      "|   Gold|Zimbabwe|  ZIM|\n",
      "| Silver|Zimbabwe|  ZIM|\n",
      "| Bronze|Zimbabwe|  ZIM|\n",
      "| Silver|Zimbabwe|  ZIM|\n",
      "|   Gold|Zimbabwe|  ZIM|\n",
      "+-------+--------+-----+\n",
      "only showing top 20 rows\n",
      "\n"
     ]
    }
   ],
   "source": [
    "medallasXPais.show()"
   ]
  },
  {
   "cell_type": "code",
   "execution_count": 85,
   "metadata": {},
   "outputs": [
    {
     "name": "stdout",
     "output_type": "stream",
     "text": [
      "root\n",
      " |-- medalla: string (nullable = true)\n",
      " |-- equipo: string (nullable = true)\n",
      " |-- sigla: string (nullable = true)\n",
      "\n"
     ]
    }
   ],
   "source": [
    "medallasXPais.printSchema()"
   ]
  },
  {
   "cell_type": "code",
   "execution_count": null,
   "metadata": {},
   "outputs": [],
   "source": [
    "medallasXPais = resultadoDF.filter(resultadoDF.medalla != \"NA\") \\\n",
    "        .join(deportistaOlimpicoDF, deportistaOlimpicoDF.deportista_id == resultadoDF.deporitsta_id,\"left\") \\\n",
    "        .join(paisesDF, paisesDF.id == deportistaOlimpicoDF.equipo_id,\"left\") \\\n",
    "        .select(\"medalla\",\"equipo\",\"sigla\").sort(col(\"sigla\").desc())\n"
   ]
  },
  {
   "cell_type": "markdown",
   "metadata": {},
   "source": [
    "Tablas usadas:\n",
    "    resultado\n",
    "    deportistaOlimpico\n",
    "    paises"
   ]
  },
  {
   "cell_type": "code",
   "execution_count": 86,
   "metadata": {},
   "outputs": [],
   "source": [
    "resultadoDF.registerTempTable(\"resultado\")\n",
    "deportistaOlimpicoDF.registerTempTable(\"deportista\")\n",
    "paisesDF.registerTempTable(\"paises\")"
   ]
  },
  {
   "cell_type": "code",
   "execution_count": 93,
   "metadata": {},
   "outputs": [
    {
     "data": {
      "text/plain": [
       "[Row(medalla='NA'),\n",
       " Row(medalla='NA'),\n",
       " Row(medalla='NA'),\n",
       " Row(medalla='Gold'),\n",
       " Row(medalla='NA')]"
      ]
     },
     "execution_count": 93,
     "metadata": {},
     "output_type": "execute_result"
    }
   ],
   "source": [
    "sqlContext.sql(\"\"\"SELECT medalla from  resultado\"\"\").take(5)"
   ]
  },
  {
   "cell_type": "code",
   "execution_count": 97,
   "metadata": {},
   "outputs": [
    {
     "name": "stdout",
     "output_type": "stream",
     "text": [
      "+-------+--------+-----+\n",
      "|medalla|  equipo|sigla|\n",
      "+-------+--------+-----+\n",
      "|   Gold|Zimbabwe|  ZIM|\n",
      "|   Gold|Zimbabwe|  ZIM|\n",
      "|   Gold|Zimbabwe|  ZIM|\n",
      "|   Gold|Zimbabwe|  ZIM|\n",
      "|   Gold|Zimbabwe|  ZIM|\n",
      "| Bronze|Zimbabwe|  ZIM|\n",
      "|   Gold|Zimbabwe|  ZIM|\n",
      "|   Gold|Zimbabwe|  ZIM|\n",
      "|   Gold|Zimbabwe|  ZIM|\n",
      "| Silver|Zimbabwe|  ZIM|\n",
      "|   Gold|Zimbabwe|  ZIM|\n",
      "|   Gold|Zimbabwe|  ZIM|\n",
      "| Silver|Zimbabwe|  ZIM|\n",
      "|   Gold|Zimbabwe|  ZIM|\n",
      "| Silver|Zimbabwe|  ZIM|\n",
      "| Silver|Zimbabwe|  ZIM|\n",
      "|   Gold|Zimbabwe|  ZIM|\n",
      "|   Gold|Zimbabwe|  ZIM|\n",
      "|   Gold|Zimbabwe|  ZIM|\n",
      "|   Gold|Zimbabwe|  ZIM|\n",
      "+-------+--------+-----+\n",
      "only showing top 20 rows\n",
      "\n"
     ]
    }
   ],
   "source": [
    "sqlContext.sql(\"\"\"SELECT medalla,equipo,sigla FROM resultado r\n",
    "                    JOIN deportista d\n",
    "                    ON r.deporitsta_id = d.deportista_id\n",
    "                    JOIN paises p\n",
    "                    ON p.id = d.equipo_id\n",
    "                    WHERE medalla <> \"NA\"\n",
    "                    ORDER BY sigla DESC\n",
    "                \"\"\").show()"
   ]
  },
  {
   "cell_type": "code",
   "execution_count": 99,
   "metadata": {},
   "outputs": [
    {
     "name": "stdout",
     "output_type": "stream",
     "text": [
      "+-------+--------+-----+\n",
      "|medalla|  equipo|sigla|\n",
      "+-------+--------+-----+\n",
      "|   Gold|Zimbabwe|  ZIM|\n",
      "|   Gold|Zimbabwe|  ZIM|\n",
      "|   Gold|Zimbabwe|  ZIM|\n",
      "| Silver|Zimbabwe|  ZIM|\n",
      "| Silver|Zimbabwe|  ZIM|\n",
      "|   Gold|Zimbabwe|  ZIM|\n",
      "|   Gold|Zimbabwe|  ZIM|\n",
      "|   Gold|Zimbabwe|  ZIM|\n",
      "|   Gold|Zimbabwe|  ZIM|\n",
      "|   Gold|Zimbabwe|  ZIM|\n",
      "|   Gold|Zimbabwe|  ZIM|\n",
      "|   Gold|Zimbabwe|  ZIM|\n",
      "|   Gold|Zimbabwe|  ZIM|\n",
      "|   Gold|Zimbabwe|  ZIM|\n",
      "|   Gold|Zimbabwe|  ZIM|\n",
      "|   Gold|Zimbabwe|  ZIM|\n",
      "| Silver|Zimbabwe|  ZIM|\n",
      "| Bronze|Zimbabwe|  ZIM|\n",
      "| Silver|Zimbabwe|  ZIM|\n",
      "|   Gold|Zimbabwe|  ZIM|\n",
      "+-------+--------+-----+\n",
      "only showing top 20 rows\n",
      "\n"
     ]
    }
   ],
   "source": [
    "resultadoDF.filter(resultadoDF.medalla != \"NA\") \\\n",
    "        .join(deportistaOlimpicoDF, deportistaOlimpicoDF.deportista_id == resultadoDF.deporitsta_id,\"left\") \\\n",
    "        .join(paisesDF, paisesDF.id == deportistaOlimpicoDF.equipo_id,\"left\") \\\n",
    "        .select(\"medalla\",\"equipo\",\"sigla\").sort(col(\"sigla\").desc()).show()"
   ]
  },
  {
   "cell_type": "code",
   "execution_count": null,
   "metadata": {},
   "outputs": [],
   "source": [
    "#spark.stop()"
   ]
  }
 ],
 "metadata": {
  "kernelspec": {
   "display_name": "Python 3",
   "language": "python",
   "name": "python3"
  },
  "language_info": {
   "codemirror_mode": {
    "name": "ipython",
    "version": 3
   },
   "file_extension": ".py",
   "mimetype": "text/x-python",
   "name": "python",
   "nbconvert_exporter": "python",
   "pygments_lexer": "ipython3",
   "version": "3.7.4"
  }
 },
 "nbformat": 4,
 "nbformat_minor": 4
}
